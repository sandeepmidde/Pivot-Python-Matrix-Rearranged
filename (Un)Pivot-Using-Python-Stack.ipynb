{
 "cells": [
  {
   "cell_type": "code",
   "execution_count": 1,
   "metadata": {},
   "outputs": [],
   "source": [
    "import pandas as pd"
   ]
  },
  {
   "cell_type": "code",
   "execution_count": 2,
   "metadata": {},
   "outputs": [],
   "source": [
    "test = pd.ExcelFile('Input.xlsx')\n",
    "test_df = pd.read_excel(test, header=[0,1])"
   ]
  },
  {
   "cell_type": "code",
   "execution_count": 3,
   "metadata": {},
   "outputs": [
    {
     "data": {
      "text/html": [
       "<div>\n",
       "<style scoped>\n",
       "    .dataframe tbody tr th:only-of-type {\n",
       "        vertical-align: middle;\n",
       "    }\n",
       "\n",
       "    .dataframe tbody tr th {\n",
       "        vertical-align: top;\n",
       "    }\n",
       "\n",
       "    .dataframe thead tr th {\n",
       "        text-align: left;\n",
       "    }\n",
       "</style>\n",
       "<table border=\"1\" class=\"dataframe\">\n",
       "  <thead>\n",
       "    <tr>\n",
       "      <th></th>\n",
       "      <th>Unnamed: 0_level_0</th>\n",
       "      <th colspan=\"2\" halign=\"left\">2018</th>\n",
       "      <th colspan=\"2\" halign=\"left\">2019</th>\n",
       "    </tr>\n",
       "    <tr>\n",
       "      <th></th>\n",
       "      <th>Unnamed: 0_level_1</th>\n",
       "      <th>GOLD</th>\n",
       "      <th>SILVER</th>\n",
       "      <th>GOLD</th>\n",
       "      <th>SILVER</th>\n",
       "    </tr>\n",
       "  </thead>\n",
       "  <tbody>\n",
       "    <tr>\n",
       "      <td>0</td>\n",
       "      <td>CHINA</td>\n",
       "      <td>1</td>\n",
       "      <td>2</td>\n",
       "      <td>3</td>\n",
       "      <td>4</td>\n",
       "    </tr>\n",
       "    <tr>\n",
       "      <td>1</td>\n",
       "      <td>INDIA</td>\n",
       "      <td>5</td>\n",
       "      <td>6</td>\n",
       "      <td>7</td>\n",
       "      <td>8</td>\n",
       "    </tr>\n",
       "    <tr>\n",
       "      <td>2</td>\n",
       "      <td>US</td>\n",
       "      <td>9</td>\n",
       "      <td>10</td>\n",
       "      <td>11</td>\n",
       "      <td>12</td>\n",
       "    </tr>\n",
       "  </tbody>\n",
       "</table>\n",
       "</div>"
      ],
      "text/plain": [
       "  Unnamed: 0_level_0 2018        2019       \n",
       "  Unnamed: 0_level_1 GOLD SILVER GOLD SILVER\n",
       "0              CHINA    1      2    3      4\n",
       "1              INDIA    5      6    7      8\n",
       "2                 US    9     10   11     12"
      ]
     },
     "execution_count": 3,
     "metadata": {},
     "output_type": "execute_result"
    }
   ],
   "source": [
    "test_df"
   ]
  },
  {
   "cell_type": "code",
   "execution_count": 4,
   "metadata": {},
   "outputs": [],
   "source": [
    "# Set the first col. as an index\n",
    "test_df = test_df.set_index(('Unnamed: 0_level_0', 'Unnamed: 0_level_1'))"
   ]
  },
  {
   "cell_type": "code",
   "execution_count": 5,
   "metadata": {},
   "outputs": [
    {
     "name": "stdout",
     "output_type": "stream",
     "text": [
      "                                               GOLD  SILVER\n",
      "(Unnamed: 0_level_0, Unnamed: 0_level_1)                   \n",
      "CHINA                                    2018     1       2\n",
      "                                         2019     3       4\n",
      "INDIA                                    2018     5       6\n",
      "                                         2019     7       8\n",
      "US                                       2018     9      10\n",
      "                                         2019    11      12\n"
     ]
    }
   ],
   "source": [
    "# Stack resets the data into a different format.\n",
    "\n",
    "test_df = pd.DataFrame(test_df.stack(0))\n",
    "\n",
    "print(test_df)"
   ]
  },
  {
   "cell_type": "code",
   "execution_count": 6,
   "metadata": {},
   "outputs": [
    {
     "name": "stdout",
     "output_type": "stream",
     "text": [
      "   (Unnamed: 0_level_0, Unnamed: 0_level_1) level_1 level_2   0\n",
      "0                                     CHINA    2018    GOLD   1\n",
      "1                                     CHINA    2018  SILVER   2\n",
      "2                                     CHINA    2019    GOLD   3\n",
      "3                                     CHINA    2019  SILVER   4\n",
      "4                                     INDIA    2018    GOLD   5\n",
      "5                                     INDIA    2018  SILVER   6\n",
      "6                                     INDIA    2019    GOLD   7\n",
      "7                                     INDIA    2019  SILVER   8\n",
      "8                                        US    2018    GOLD   9\n",
      "9                                        US    2018  SILVER  10\n",
      "10                                       US    2019    GOLD  11\n",
      "11                                       US    2019  SILVER  12\n"
     ]
    }
   ],
   "source": [
    "test_df = pd.DataFrame(test_df.stack(0)).reset_index()\n",
    "\n",
    "print(test_df)"
   ]
  },
  {
   "cell_type": "code",
   "execution_count": 7,
   "metadata": {},
   "outputs": [],
   "source": [
    "test_df = test_df.rename(columns={('Unnamed: 0_level_0', 'Unnamed: 0_level_1') : 'Country', u'level_1' : 'year',\n",
    "                       u'level_2' : 'type',\n",
    "                        0 : 'value'\n",
    "                       })"
   ]
  },
  {
   "cell_type": "code",
   "execution_count": 8,
   "metadata": {},
   "outputs": [
    {
     "data": {
      "text/html": [
       "<div>\n",
       "<style scoped>\n",
       "    .dataframe tbody tr th:only-of-type {\n",
       "        vertical-align: middle;\n",
       "    }\n",
       "\n",
       "    .dataframe tbody tr th {\n",
       "        vertical-align: top;\n",
       "    }\n",
       "\n",
       "    .dataframe thead th {\n",
       "        text-align: right;\n",
       "    }\n",
       "</style>\n",
       "<table border=\"1\" class=\"dataframe\">\n",
       "  <thead>\n",
       "    <tr style=\"text-align: right;\">\n",
       "      <th></th>\n",
       "      <th>Country</th>\n",
       "      <th>year</th>\n",
       "      <th>type</th>\n",
       "      <th>value</th>\n",
       "    </tr>\n",
       "  </thead>\n",
       "  <tbody>\n",
       "    <tr>\n",
       "      <td>0</td>\n",
       "      <td>CHINA</td>\n",
       "      <td>2018</td>\n",
       "      <td>GOLD</td>\n",
       "      <td>1</td>\n",
       "    </tr>\n",
       "    <tr>\n",
       "      <td>1</td>\n",
       "      <td>CHINA</td>\n",
       "      <td>2018</td>\n",
       "      <td>SILVER</td>\n",
       "      <td>2</td>\n",
       "    </tr>\n",
       "    <tr>\n",
       "      <td>2</td>\n",
       "      <td>CHINA</td>\n",
       "      <td>2019</td>\n",
       "      <td>GOLD</td>\n",
       "      <td>3</td>\n",
       "    </tr>\n",
       "    <tr>\n",
       "      <td>3</td>\n",
       "      <td>CHINA</td>\n",
       "      <td>2019</td>\n",
       "      <td>SILVER</td>\n",
       "      <td>4</td>\n",
       "    </tr>\n",
       "    <tr>\n",
       "      <td>4</td>\n",
       "      <td>INDIA</td>\n",
       "      <td>2018</td>\n",
       "      <td>GOLD</td>\n",
       "      <td>5</td>\n",
       "    </tr>\n",
       "    <tr>\n",
       "      <td>5</td>\n",
       "      <td>INDIA</td>\n",
       "      <td>2018</td>\n",
       "      <td>SILVER</td>\n",
       "      <td>6</td>\n",
       "    </tr>\n",
       "    <tr>\n",
       "      <td>6</td>\n",
       "      <td>INDIA</td>\n",
       "      <td>2019</td>\n",
       "      <td>GOLD</td>\n",
       "      <td>7</td>\n",
       "    </tr>\n",
       "    <tr>\n",
       "      <td>7</td>\n",
       "      <td>INDIA</td>\n",
       "      <td>2019</td>\n",
       "      <td>SILVER</td>\n",
       "      <td>8</td>\n",
       "    </tr>\n",
       "    <tr>\n",
       "      <td>8</td>\n",
       "      <td>US</td>\n",
       "      <td>2018</td>\n",
       "      <td>GOLD</td>\n",
       "      <td>9</td>\n",
       "    </tr>\n",
       "    <tr>\n",
       "      <td>9</td>\n",
       "      <td>US</td>\n",
       "      <td>2018</td>\n",
       "      <td>SILVER</td>\n",
       "      <td>10</td>\n",
       "    </tr>\n",
       "    <tr>\n",
       "      <td>10</td>\n",
       "      <td>US</td>\n",
       "      <td>2019</td>\n",
       "      <td>GOLD</td>\n",
       "      <td>11</td>\n",
       "    </tr>\n",
       "    <tr>\n",
       "      <td>11</td>\n",
       "      <td>US</td>\n",
       "      <td>2019</td>\n",
       "      <td>SILVER</td>\n",
       "      <td>12</td>\n",
       "    </tr>\n",
       "  </tbody>\n",
       "</table>\n",
       "</div>"
      ],
      "text/plain": [
       "   Country  year    type  value\n",
       "0    CHINA  2018    GOLD      1\n",
       "1    CHINA  2018  SILVER      2\n",
       "2    CHINA  2019    GOLD      3\n",
       "3    CHINA  2019  SILVER      4\n",
       "4    INDIA  2018    GOLD      5\n",
       "5    INDIA  2018  SILVER      6\n",
       "6    INDIA  2019    GOLD      7\n",
       "7    INDIA  2019  SILVER      8\n",
       "8       US  2018    GOLD      9\n",
       "9       US  2018  SILVER     10\n",
       "10      US  2019    GOLD     11\n",
       "11      US  2019  SILVER     12"
      ]
     },
     "execution_count": 8,
     "metadata": {},
     "output_type": "execute_result"
    }
   ],
   "source": [
    "test_df"
   ]
  },
  {
   "cell_type": "code",
   "execution_count": null,
   "metadata": {},
   "outputs": [],
   "source": []
  }
 ],
 "metadata": {
  "kernelspec": {
   "display_name": "Python 3",
   "language": "python",
   "name": "python3"
  },
  "language_info": {
   "codemirror_mode": {
    "name": "ipython",
    "version": 3
   },
   "file_extension": ".py",
   "mimetype": "text/x-python",
   "name": "python",
   "nbconvert_exporter": "python",
   "pygments_lexer": "ipython3",
   "version": "3.7.4"
  }
 },
 "nbformat": 4,
 "nbformat_minor": 4
}
